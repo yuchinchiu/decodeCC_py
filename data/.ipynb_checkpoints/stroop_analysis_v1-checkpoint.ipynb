{
 "cells": [
  {
   "cell_type": "code",
   "execution_count": 166,
   "metadata": {},
   "outputs": [
    {
     "data": {
      "text/plain": [
       "(160, 11)"
      ]
     },
     "execution_count": 166,
     "metadata": {},
     "output_type": "execute_result"
    }
   ],
   "source": [
    "import pandas as pd\n",
    "p1 = pd.read_csv(\"stroop_99.csv\")\n",
    "p2 = pd.read_csv(\"filler_99.csv\")\n",
    "p3 = pd.read_csv(\"memory_99.csv\")\n",
    "p4 = pd.read_csv(\"sourceMem_99.csv\")\n",
    "# change 0/1 to meaningful labels\n",
    "p2.trialType.replace(0,'repeat',inplace=True)\n",
    "p2.trialType.replace(1,'switch',inplace=True)\n",
    "p2.drop(p2[p2.swProb==50].index,axis=0, inplace=True)  # drop the filler practice in the filler data\n",
    "p2.swProb.replace(20,'sw20%',inplace=True)\n",
    "p2.swProb.replace(80,'sw80%',inplace=True)"
   ]
  },
  {
   "cell_type": "code",
   "execution_count": 167,
   "metadata": {},
   "outputs": [],
   "source": [
    "# transform categorical variables from \"string objects\" to categories \n",
    "p1['blockType'] = pd.Categorical(p1.blockType, categories=['easy','hard'],ordered=True)\n",
    "p1['trialType'] = pd.Categorical(p1.trialType, categories=['con','inc'],ordered=True)\n",
    "p2['trialType'] = pd.Categorical(p2.trialType, categories=['repeat','switch'],ordered=True)\n",
    "p2['swProb']    = pd.Categorical(p2.swProb,    categories=['sw20%','sw80%'],ordered=True)\n",
    "p3['blockType'] = pd.Categorical(p3.blockType, categories=['easy','hard','new'],ordered=True)\n",
    "p3['trialType'] = pd.Categorical(p3.trialType, categories=['con','inc','new'],ordered=True)\n",
    "p4['blockType'] = pd.Categorical(p4.blockType, categories=['easy','hard'],ordered=True)\n",
    "p4['trialType'] = pd.Categorical(p4.trialType, categories=['con','inc'],ordered=True)"
   ]
  },
  {
   "cell_type": "code",
   "execution_count": 172,
   "metadata": {},
   "outputs": [],
   "source": [
    "# fix SR mapping in the task script... v=new, M=old for this v b n m = [1 2 3 4]\n",
    "p3.sbjResp.replace('v',1, inplace=True)\n",
    "p3.sbjResp.replace('b',2, inplace=True)\n",
    "p3.sbjResp.replace('n',3, inplace=True)\n",
    "p3.sbjResp.replace('m',4, inplace=True)\n",
    "p3.loc[(p3.sbjResp>=3) & (p3.corrAns==0),'sbjACC']=1  # old and say it's old\n",
    "p3.loc[(p3.sbjResp<=2) & (p3.corrAns==0),'sbjACC']=0  # old and say it's new\n",
    "p3.loc[(p3.sbjResp<=2) & (p3.corrAns==1),'sbjACC']=1  # new and say it's new\n",
    "p3.loc[(p3.sbjResp>=3) & (p3.corrAns==1),'sbjACC']=0  # new and say it's old"
   ]
  },
  {
   "cell_type": "code",
   "execution_count": 120,
   "metadata": {},
   "outputs": [],
   "source": [
    "p1ACC = p1.sbjACC.mean(skipna=True)*100\n",
    "p2ACC = p2.sbjACC.mean(skipna=True)*100\n",
    "p3ACC = p3.sbjACC.mean(skipna=True)*100\n",
    "p4ACC = p4.sbjACC.mean(skipna=True)*100"
   ]
  },
  {
   "cell_type": "code",
   "execution_count": 175,
   "metadata": {},
   "outputs": [
    {
     "data": {
      "text/plain": [
       "blockType  trialType\n",
       "easy       con          39.0625\n",
       "           inc          31.2500\n",
       "hard       con          50.0000\n",
       "           inc          59.3750\n",
       "Name: sbjACC, dtype: float64"
      ]
     },
     "execution_count": 175,
     "metadata": {},
     "output_type": "execute_result"
    }
   ],
   "source": [
    "stroopACC= p1.groupby(['blockType','trialType']).sbjACC.mean()*100\n",
    "stroopRT = p1.groupby(['blockType','trialType']).sbjRT.mean()*1000\n",
    "isspACC  = p2.groupby(['swProb','trialType']).sbjACC.mean()*100\n",
    "isspRT   = p2.groupby(['swProb','trialType']).sbjRT.mean()*1000\n",
    "memACC   = p3.groupby(['blockType','trialType']).sbjACC.mean()*100\n",
    "mempRT   = p3.groupby(['blockType','trialType']).sbjRT.mean()*1000\n",
    "smemACC  = p4.groupby(['blockType','trialType']).sbjACC.mean()*100\n",
    "smemRT   = p4.groupby(['blockType','trialType']).sbjRT.mean()*1000"
   ]
  }
 ],
 "metadata": {
  "kernelspec": {
   "display_name": "Python 3",
   "language": "python",
   "name": "python3"
  },
  "language_info": {
   "codemirror_mode": {
    "name": "ipython",
    "version": 3
   },
   "file_extension": ".py",
   "mimetype": "text/x-python",
   "name": "python",
   "nbconvert_exporter": "python",
   "pygments_lexer": "ipython3",
   "version": "3.6.1"
  }
 },
 "nbformat": 4,
 "nbformat_minor": 2
}
