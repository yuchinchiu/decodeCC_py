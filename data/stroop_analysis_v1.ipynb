{
 "cells": [
  {
   "cell_type": "markdown",
   "metadata": {},
   "source": [
    "# Data analysis (on a test subject)"
   ]
  },
  {
   "cell_type": "markdown",
   "metadata": {},
   "source": [
    "- import data from the current folder"
   ]
  },
  {
   "cell_type": "code",
   "execution_count": 1,
   "metadata": {
    "collapsed": true
   },
   "outputs": [],
   "source": [
    "import pandas as pd\n",
    "p1 = pd.read_csv(\"stroop_99.csv\")\n",
    "p2 = pd.read_csv(\"filler_99.csv\")\n",
    "p3 = pd.read_csv(\"memory_99.csv\")\n",
    "p4 = pd.read_csv(\"sourceMem_99.csv\")"
   ]
  },
  {
   "cell_type": "markdown",
   "metadata": {},
   "source": [
    "- Filler task - # change 0/1 to meaningful labels [perhaps change the trailGen file output format]"
   ]
  },
  {
   "cell_type": "code",
   "execution_count": 2,
   "metadata": {},
   "outputs": [],
   "source": [
    "p2.trialType.replace(0,'repeat',inplace=True)\n",
    "p2.trialType.replace(1,'switch',inplace=True)\n",
    "p2.drop(p2[p2.swProb==50].index,axis=0, inplace=True)  # drop the filler practice in the filler data\n",
    "p2.swProb.replace(20,'sw20%',inplace=True)\n",
    "p2.swProb.replace(80,'sw80%',inplace=True)"
   ]
  },
  {
   "cell_type": "markdown",
   "metadata": {},
   "source": [
    "- transform categorical variables from \"string objects\" to categories "
   ]
  },
  {
   "cell_type": "code",
   "execution_count": 3,
   "metadata": {
    "collapsed": true
   },
   "outputs": [],
   "source": [
    "p1['blockType'] = pd.Categorical(p1.blockType, categories=['easy','hard'],ordered=True)\n",
    "p1['trialType'] = pd.Categorical(p1.trialType, categories=['con','inc'],ordered=True)\n",
    "p2['trialType'] = pd.Categorical(p2.trialType, categories=['repeat','switch'],ordered=True)\n",
    "p2['swProb']    = pd.Categorical(p2.swProb,    categories=['sw20%','sw80%'],ordered=True)\n",
    "p3['blockType'] = pd.Categorical(p3.blockType, categories=['easy','hard','new'],ordered=True)\n",
    "p3['trialType'] = pd.Categorical(p3.trialType, categories=['con','inc','new'],ordered=True)\n",
    "p4['blockType'] = pd.Categorical(p4.blockType, categories=['easy','hard'],ordered=True)\n",
    "p4['trialType'] = pd.Categorical(p4.trialType, categories=['con','inc'],ordered=True)"
   ]
  },
  {
   "cell_type": "markdown",
   "metadata": {},
   "source": [
    "- fix SR mapping in the task script... v=new, M=old for this v b n m = [1 2 3 4]"
   ]
  },
  {
   "cell_type": "code",
   "execution_count": 4,
   "metadata": {
    "collapsed": true
   },
   "outputs": [],
   "source": [
    "p3.sbjResp.replace('v',1, inplace=True)\n",
    "p3.sbjResp.replace('b',2, inplace=True)\n",
    "p3.sbjResp.replace('n',3, inplace=True)\n",
    "p3.sbjResp.replace('m',4, inplace=True)\n",
    "p3.loc[(p3.sbjResp>=3) & (p3.corrAns==0),'sbjACC']=1  # old and say it's old\n",
    "p3.loc[(p3.sbjResp<=2) & (p3.corrAns==0),'sbjACC']=0  # old and say it's new\n",
    "p3.loc[(p3.sbjResp<=2) & (p3.corrAns==1),'sbjACC']=1  # new and say it's new\n",
    "p3.loc[(p3.sbjResp>=3) & (p3.corrAns==1),'sbjACC']=0  # new and say it's old"
   ]
  },
  {
   "cell_type": "markdown",
   "metadata": {},
   "source": [
    "- Calcaulate overall acc for each task"
   ]
  },
  {
   "cell_type": "code",
   "execution_count": 5,
   "metadata": {
    "collapsed": true
   },
   "outputs": [],
   "source": [
    "p1ACC = p1.sbjACC.mean(skipna=True)*100\n",
    "p2ACC = p2.sbjACC.mean(skipna=True)*100\n",
    "p3ACC = p3.sbjACC.mean(skipna=True)*100\n",
    "p4ACC = p4.sbjACC.mean(skipna=True)*100"
   ]
  },
  {
   "cell_type": "markdown",
   "metadata": {},
   "source": [
    "- calcalate RT/ACC based on the conditions"
   ]
  },
  {
   "cell_type": "code",
   "execution_count": 6,
   "metadata": {},
   "outputs": [],
   "source": [
    "stroopACC= p1.groupby(['blockType','trialType']).sbjACC.mean()*100\n",
    "stroopRT = p1.groupby(['blockType','trialType']).sbjRT.mean()*1000\n",
    "isspACC  = p2.groupby(['swProb','trialType']).sbjACC.mean()*100\n",
    "isspRT   = p2.groupby(['swProb','trialType']).sbjRT.mean()*1000\n",
    "memACC   = p3.groupby(['blockType','trialType']).sbjACC.mean()*100\n",
    "mempRT   = p3.groupby(['blockType','trialType']).sbjRT.mean()*1000\n",
    "smemACC  = p4.groupby(['blockType','trialType']).sbjACC.mean()*100\n",
    "smemRT   = p4.groupby(['blockType','trialType']).sbjRT.mean()*1000"
   ]
  },
  {
   "cell_type": "markdown",
   "metadata": {},
   "source": [
    "- display the results"
   ]
  },
  {
   "cell_type": "code",
   "execution_count": 7,
   "metadata": {},
   "outputs": [
    {
     "data": {
      "text/plain": [
       "blockType  trialType\n",
       "easy       con          90.62500\n",
       "           inc          75.00000\n",
       "hard       con          78.12500\n",
       "           inc          88.28125\n",
       "Name: sbjACC, dtype: float64"
      ]
     },
     "execution_count": 7,
     "metadata": {},
     "output_type": "execute_result"
    }
   ],
   "source": [
    "stroopACC"
   ]
  },
  {
   "cell_type": "code",
   "execution_count": 8,
   "metadata": {},
   "outputs": [
    {
     "data": {
      "text/plain": [
       "swProb  trialType\n",
       "sw20%   repeat       85.9375\n",
       "        switch       87.5000\n",
       "sw80%   repeat       81.2500\n",
       "        switch       64.0625\n",
       "Name: sbjACC, dtype: float64"
      ]
     },
     "execution_count": 8,
     "metadata": {},
     "output_type": "execute_result"
    }
   ],
   "source": [
    "isspACC"
   ]
  },
  {
   "cell_type": "code",
   "execution_count": 9,
   "metadata": {},
   "outputs": [
    {
     "data": {
      "text/plain": [
       "blockType  trialType\n",
       "easy       con          48.387097\n",
       "           inc          43.750000\n",
       "hard       con          73.333333\n",
       "           inc          57.377049\n",
       "new        new          93.670886\n",
       "Name: sbjACC, dtype: float64"
      ]
     },
     "execution_count": 9,
     "metadata": {},
     "output_type": "execute_result"
    }
   ],
   "source": [
    "memACC"
   ]
  },
  {
   "cell_type": "code",
   "execution_count": 10,
   "metadata": {},
   "outputs": [
    {
     "data": {
      "text/plain": [
       "blockType  trialType\n",
       "easy       con          647.138874\n",
       "           inc          715.413541\n",
       "hard       con          710.779322\n",
       "           inc          687.225706\n",
       "Name: sbjRT, dtype: float64"
      ]
     },
     "execution_count": 10,
     "metadata": {},
     "output_type": "execute_result"
    }
   ],
   "source": [
    "stroopRT"
   ]
  },
  {
   "cell_type": "code",
   "execution_count": 11,
   "metadata": {},
   "outputs": [
    {
     "data": {
      "text/plain": [
       "blockType  trialType\n",
       "easy       con          39.0625\n",
       "           inc          31.2500\n",
       "hard       con          50.0000\n",
       "           inc          59.3750\n",
       "Name: sbjACC, dtype: float64"
      ]
     },
     "execution_count": 11,
     "metadata": {},
     "output_type": "execute_result"
    }
   ],
   "source": [
    "smemACC"
   ]
  }
 ],
 "metadata": {
  "kernelspec": {
   "display_name": "Python 3",
   "language": "python",
   "name": "python3"
  },
  "language_info": {
   "codemirror_mode": {
    "name": "ipython",
    "version": 3
   },
   "file_extension": ".py",
   "mimetype": "text/x-python",
   "name": "python",
   "nbconvert_exporter": "python",
   "pygments_lexer": "ipython3",
   "version": "3.6.1"
  }
 },
 "nbformat": 4,
 "nbformat_minor": 2
}
